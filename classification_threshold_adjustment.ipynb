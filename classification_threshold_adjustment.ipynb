{
 "cells": [
  {
   "cell_type": "code",
   "execution_count": 35,
   "id": "cace1c3f",
   "metadata": {},
   "outputs": [],
   "source": [
    "# search thresholds for imbalanced classification\n",
    "import numpy as np\n",
    "from numpy import argmax\n",
    "from sklearn.datasets import make_classification\n",
    "from sklearn.linear_model import LogisticRegression\n",
    "from sklearn.model_selection import train_test_split\n",
    "from sklearn.metrics import f1_score"
   ]
  },
  {
   "cell_type": "code",
   "execution_count": 22,
   "id": "e5cb0b0c",
   "metadata": {},
   "outputs": [],
   "source": [
    "# apply threshold to positive probabilities to create labels\n",
    "def to_labels(pos_probs, threshold):\n",
    "\treturn (pos_probs >= threshold).astype('int')"
   ]
  },
  {
   "cell_type": "code",
   "execution_count": 23,
   "id": "8cbefe9a",
   "metadata": {},
   "outputs": [
    {
     "data": {
      "text/plain": [
       "[[0.5795, 0.4205],\n",
       " [0.6629, 0.3371],\n",
       " [0.7313, 0.2687],\n",
       " [0.6728, 0.3272],\n",
       " [0.5086, 0.4914]]"
      ]
     },
     "execution_count": 23,
     "metadata": {},
     "output_type": "execute_result"
    }
   ],
   "source": [
    "probs = [[0.5795, 0.4205],\n",
    " [0.6629, 0.3371],\n",
    " [0.7313, 0.2687],\n",
    " [0.6728, 0.3272],\n",
    " [0.5086, 0.4914]]\n",
    "probs"
   ]
  },
  {
   "cell_type": "code",
   "execution_count": 24,
   "id": "192cc89a",
   "metadata": {},
   "outputs": [
    {
     "data": {
      "text/plain": [
       "list"
      ]
     },
     "execution_count": 24,
     "metadata": {},
     "output_type": "execute_result"
    }
   ],
   "source": [
    "type(probs)"
   ]
  },
  {
   "cell_type": "code",
   "execution_count": 25,
   "id": "4765be2e",
   "metadata": {},
   "outputs": [
    {
     "data": {
      "text/plain": [
       "array([[0.5795, 0.4205],\n",
       "       [0.6629, 0.3371],\n",
       "       [0.7313, 0.2687],\n",
       "       [0.6728, 0.3272],\n",
       "       [0.5086, 0.4914]])"
      ]
     },
     "execution_count": 25,
     "metadata": {},
     "output_type": "execute_result"
    }
   ],
   "source": [
    "array_probs = np.array(probs)\n",
    "array_probs"
   ]
  },
  {
   "cell_type": "code",
   "execution_count": 26,
   "id": "b638e2a4",
   "metadata": {},
   "outputs": [
    {
     "data": {
      "text/plain": [
       "array([0.4205, 0.3371, 0.2687, 0.3272, 0.4914])"
      ]
     },
     "execution_count": 26,
     "metadata": {},
     "output_type": "execute_result"
    }
   ],
   "source": [
    "p_probs = array_probs[:,1]\n",
    "p_probs"
   ]
  },
  {
   "cell_type": "code",
   "execution_count": 40,
   "id": "6093f697",
   "metadata": {},
   "outputs": [
    {
     "data": {
      "text/plain": [
       "array([1, 1, 0, 1, 1])"
      ]
     },
     "execution_count": 40,
     "metadata": {},
     "output_type": "execute_result"
    }
   ],
   "source": [
    "to_labels(p_probs,0.3)"
   ]
  },
  {
   "cell_type": "code",
   "execution_count": null,
   "id": "5ce73250",
   "metadata": {},
   "outputs": [],
   "source": [
    "for threshold in np.arange(0, 0.3, 0.02):\n",
    "    predicted_valid = (probabilities_one_valid >= threshold).astype('int')\n",
    "    precision = precision_score(target_valid,predicted_valid)\n",
    "    recall = recall_score(target_valid,predicted_valid)\n",
    "    print('Threshold = {:.2f} | Precision = {:.3f}, Recall = {:.3f}'.format(threshold, precision, recall))"
   ]
  },
  {
   "cell_type": "code",
   "execution_count": 33,
   "id": "ec30dac4",
   "metadata": {},
   "outputs": [
    {
     "name": "stdout",
     "output_type": "stream",
     "text": [
      "Threshold:  0.0 Positives:  5\n",
      "Threshold:  0.02 Positives:  5\n",
      "Threshold:  0.04 Positives:  5\n",
      "Threshold:  0.06 Positives:  5\n",
      "Threshold:  0.08 Positives:  5\n",
      "Threshold:  0.1 Positives:  5\n",
      "Threshold:  0.12 Positives:  5\n",
      "Threshold:  0.14 Positives:  5\n",
      "Threshold:  0.16 Positives:  5\n",
      "Threshold:  0.18 Positives:  5\n",
      "Threshold:  0.2 Positives:  5\n",
      "Threshold:  0.22 Positives:  5\n",
      "Threshold:  0.24 Positives:  5\n",
      "Threshold:  0.26 Positives:  5\n",
      "Threshold:  0.28 Positives:  4\n",
      "Threshold:  0.3 Positives:  4\n",
      "Threshold:  0.32 Positives:  4\n",
      "Threshold:  0.34 Positives:  2\n",
      "Threshold:  0.36 Positives:  2\n",
      "Threshold:  0.38 Positives:  2\n",
      "Threshold:  0.4 Positives:  2\n",
      "Threshold:  0.42 Positives:  2\n",
      "Threshold:  0.44 Positives:  1\n",
      "Threshold:  0.46 Positives:  1\n",
      "Threshold:  0.48 Positives:  1\n"
     ]
    }
   ],
   "source": [
    "for t in np.arange(0, 0.5, 0.02):\n",
    "    print('Threshold: ', t, 'Positives: ', (to_labels(p_probs,t)==1).sum())"
   ]
  },
  {
   "cell_type": "code",
   "execution_count": 36,
   "id": "cde81d82",
   "metadata": {},
   "outputs": [],
   "source": [
    "# generate dataset\n",
    "X, y = make_classification(n_samples=10000, n_features=2, n_redundant=0,\n",
    "\tn_clusters_per_class=1, weights=[0.99], flip_y=0, random_state=4)"
   ]
  },
  {
   "cell_type": "code",
   "execution_count": 38,
   "id": "28f450c6",
   "metadata": {},
   "outputs": [
    {
     "data": {
      "text/plain": [
       "array([0, 0, 0, ..., 0, 0, 0])"
      ]
     },
     "execution_count": 38,
     "metadata": {},
     "output_type": "execute_result"
    }
   ],
   "source": [
    "y"
   ]
  },
  {
   "cell_type": "code",
   "execution_count": null,
   "id": "ba5ab46a",
   "metadata": {},
   "outputs": [],
   "source": []
  }
 ],
 "metadata": {
  "kernelspec": {
   "display_name": "Python 3 (ipykernel)",
   "language": "python",
   "name": "python3"
  },
  "language_info": {
   "codemirror_mode": {
    "name": "ipython",
    "version": 3
   },
   "file_extension": ".py",
   "mimetype": "text/x-python",
   "name": "python",
   "nbconvert_exporter": "python",
   "pygments_lexer": "ipython3",
   "version": "3.9.6"
  }
 },
 "nbformat": 4,
 "nbformat_minor": 5
}
