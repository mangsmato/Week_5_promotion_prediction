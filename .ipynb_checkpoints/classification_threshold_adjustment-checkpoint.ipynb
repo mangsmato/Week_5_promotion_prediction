{
 "cells": [
  {
   "cell_type": "code",
   "execution_count": 1,
   "id": "101f9b08",
   "metadata": {},
   "outputs": [
    {
     "ename": "ModuleNotFoundError",
     "evalue": "No module named 'sklearn'",
     "output_type": "error",
     "traceback": [
      "\u001b[1;31m---------------------------------------------------------------------------\u001b[0m",
      "\u001b[1;31mModuleNotFoundError\u001b[0m                       Traceback (most recent call last)",
      "\u001b[1;32m~\\AppData\\Local\\Temp/ipykernel_19620/254223820.py\u001b[0m in \u001b[0;36m<module>\u001b[1;34m\u001b[0m\n\u001b[0;32m      2\u001b[0m \u001b[1;32mfrom\u001b[0m \u001b[0mnumpy\u001b[0m \u001b[1;32mimport\u001b[0m \u001b[0marange\u001b[0m\u001b[1;33m\u001b[0m\u001b[1;33m\u001b[0m\u001b[0m\n\u001b[0;32m      3\u001b[0m \u001b[1;32mfrom\u001b[0m \u001b[0mnumpy\u001b[0m \u001b[1;32mimport\u001b[0m \u001b[0margmax\u001b[0m\u001b[1;33m\u001b[0m\u001b[1;33m\u001b[0m\u001b[0m\n\u001b[1;32m----> 4\u001b[1;33m \u001b[1;32mfrom\u001b[0m \u001b[0msklearn\u001b[0m\u001b[1;33m.\u001b[0m\u001b[0mdatasets\u001b[0m \u001b[1;32mimport\u001b[0m \u001b[0mmake_classification\u001b[0m\u001b[1;33m\u001b[0m\u001b[1;33m\u001b[0m\u001b[0m\n\u001b[0m\u001b[0;32m      5\u001b[0m \u001b[1;32mfrom\u001b[0m \u001b[0msklearn\u001b[0m\u001b[1;33m.\u001b[0m\u001b[0mlinear_model\u001b[0m \u001b[1;32mimport\u001b[0m \u001b[0mLogisticRegression\u001b[0m\u001b[1;33m\u001b[0m\u001b[1;33m\u001b[0m\u001b[0m\n\u001b[0;32m      6\u001b[0m \u001b[1;32mfrom\u001b[0m \u001b[0msklearn\u001b[0m\u001b[1;33m.\u001b[0m\u001b[0mmodel_selection\u001b[0m \u001b[1;32mimport\u001b[0m \u001b[0mtrain_test_split\u001b[0m\u001b[1;33m\u001b[0m\u001b[1;33m\u001b[0m\u001b[0m\n",
      "\u001b[1;31mModuleNotFoundError\u001b[0m: No module named 'sklearn'"
     ]
    }
   ],
   "source": [
    "# search thresholds for imbalanced classification\n",
    "from numpy import arange\n",
    "from numpy import argmax\n",
    "from sklearn.datasets import make_classification\n",
    "from sklearn.linear_model import LogisticRegression\n",
    "from sklearn.model_selection import train_test_split\n",
    "from sklearn.metrics import f1_score"
   ]
  },
  {
   "cell_type": "code",
   "execution_count": 8,
   "id": "a6f39de2",
   "metadata": {},
   "outputs": [],
   "source": [
    "import numpy as np"
   ]
  },
  {
   "cell_type": "code",
   "execution_count": 22,
   "id": "f1151672",
   "metadata": {},
   "outputs": [],
   "source": [
    "# apply threshold to positive probabilities to create labels\n",
    "def to_labels(pos_probs, threshold):\n",
    "\treturn (pos_probs >= threshold).astype('int')"
   ]
  },
  {
   "cell_type": "code",
   "execution_count": 23,
   "id": "e5068f33",
   "metadata": {},
   "outputs": [
    {
     "data": {
      "text/plain": [
       "[[0.5795, 0.4205],\n",
       " [0.6629, 0.3371],\n",
       " [0.7313, 0.2687],\n",
       " [0.6728, 0.3272],\n",
       " [0.5086, 0.4914]]"
      ]
     },
     "execution_count": 23,
     "metadata": {},
     "output_type": "execute_result"
    }
   ],
   "source": [
    "probs = [[0.5795, 0.4205],\n",
    " [0.6629, 0.3371],\n",
    " [0.7313, 0.2687],\n",
    " [0.6728, 0.3272],\n",
    " [0.5086, 0.4914]]\n",
    "probs"
   ]
  },
  {
   "cell_type": "code",
   "execution_count": 24,
   "id": "c37fa34a",
   "metadata": {},
   "outputs": [
    {
     "data": {
      "text/plain": [
       "list"
      ]
     },
     "execution_count": 24,
     "metadata": {},
     "output_type": "execute_result"
    }
   ],
   "source": [
    "type(probs)"
   ]
  },
  {
   "cell_type": "code",
   "execution_count": 25,
   "id": "ff23f905",
   "metadata": {},
   "outputs": [
    {
     "data": {
      "text/plain": [
       "array([[0.5795, 0.4205],\n",
       "       [0.6629, 0.3371],\n",
       "       [0.7313, 0.2687],\n",
       "       [0.6728, 0.3272],\n",
       "       [0.5086, 0.4914]])"
      ]
     },
     "execution_count": 25,
     "metadata": {},
     "output_type": "execute_result"
    }
   ],
   "source": [
    "array_probs = np.array(probs)\n",
    "array_probs"
   ]
  },
  {
   "cell_type": "code",
   "execution_count": 26,
   "id": "cb0e1260",
   "metadata": {},
   "outputs": [
    {
     "data": {
      "text/plain": [
       "array([0.4205, 0.3371, 0.2687, 0.3272, 0.4914])"
      ]
     },
     "execution_count": 26,
     "metadata": {},
     "output_type": "execute_result"
    }
   ],
   "source": [
    "p_probs = array_probs[:,1]\n",
    "p_probs"
   ]
  },
  {
   "cell_type": "code",
   "execution_count": 31,
   "id": "bbf90aa0",
   "metadata": {},
   "outputs": [
    {
     "data": {
      "text/plain": [
       "4"
      ]
     },
     "execution_count": 31,
     "metadata": {},
     "output_type": "execute_result"
    }
   ],
   "source": [
    "(to_labels(p_probs,0.3) == 1).sum()"
   ]
  },
  {
   "cell_type": "code",
   "execution_count": 33,
   "id": "93558627",
   "metadata": {},
   "outputs": [
    {
     "name": "stdout",
     "output_type": "stream",
     "text": [
      "Threshold:  0.0 Positives:  5\n",
      "Threshold:  0.02 Positives:  5\n",
      "Threshold:  0.04 Positives:  5\n",
      "Threshold:  0.06 Positives:  5\n",
      "Threshold:  0.08 Positives:  5\n",
      "Threshold:  0.1 Positives:  5\n",
      "Threshold:  0.12 Positives:  5\n",
      "Threshold:  0.14 Positives:  5\n",
      "Threshold:  0.16 Positives:  5\n",
      "Threshold:  0.18 Positives:  5\n",
      "Threshold:  0.2 Positives:  5\n",
      "Threshold:  0.22 Positives:  5\n",
      "Threshold:  0.24 Positives:  5\n",
      "Threshold:  0.26 Positives:  5\n",
      "Threshold:  0.28 Positives:  4\n",
      "Threshold:  0.3 Positives:  4\n",
      "Threshold:  0.32 Positives:  4\n",
      "Threshold:  0.34 Positives:  2\n",
      "Threshold:  0.36 Positives:  2\n",
      "Threshold:  0.38 Positives:  2\n",
      "Threshold:  0.4 Positives:  2\n",
      "Threshold:  0.42 Positives:  2\n",
      "Threshold:  0.44 Positives:  1\n",
      "Threshold:  0.46 Positives:  1\n",
      "Threshold:  0.48 Positives:  1\n"
     ]
    }
   ],
   "source": [
    "for t in arange(0, 0.5, 0.02):\n",
    "    print('Threshold: ', t, 'Positives: ', (to_labels(p_probs,t)==1).sum())"
   ]
  },
  {
   "cell_type": "code",
   "execution_count": null,
   "id": "068d4fc6",
   "metadata": {},
   "outputs": [],
   "source": []
  }
 ],
 "metadata": {
  "kernelspec": {
   "display_name": "Python 3 (ipykernel)",
   "language": "python",
   "name": "python3"
  },
  "language_info": {
   "codemirror_mode": {
    "name": "ipython",
    "version": 3
   },
   "file_extension": ".py",
   "mimetype": "text/x-python",
   "name": "python",
   "nbconvert_exporter": "python",
   "pygments_lexer": "ipython3",
   "version": "3.9.6"
  }
 },
 "nbformat": 4,
 "nbformat_minor": 5
}
